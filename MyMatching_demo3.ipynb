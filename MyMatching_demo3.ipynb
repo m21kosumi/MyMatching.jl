{
 "cells": [
  {
   "cell_type": "markdown",
   "metadata": {},
   "source": [
    "小住真央のデモノートです。"
   ]
  },
  {
   "cell_type": "code",
   "execution_count": 1,
   "metadata": {
    "collapsed": true
   },
   "outputs": [],
   "source": [
    "using MyMatching"
   ]
  },
  {
   "cell_type": "markdown",
   "metadata": {},
   "source": [
    "今回は学生の人数を前回の300人から1500人に増やして試行を行う。"
   ]
  },
  {
   "cell_type": "code",
   "execution_count": 2,
   "metadata": {},
   "outputs": [
    {
     "name": "stderr",
     "output_type": "stream",
     "text": [
      "\u001b[1m\u001b[36mINFO: \u001b[39m\u001b[22m\u001b[36mRecompiling stale cache file C:\\Users\\mao21\\.julia\\lib\\v0.6\\DataFrames.ji for module DataFrames.\n",
      "\u001b[39m\u001b[1m\u001b[33mWARNING: \u001b[39m\u001b[22m\u001b[33m@ngenerate is deprecated, used @generated function or (preferably) tuples/CartesianIndex instead\u001b[39m\n",
      "Stacktrace:\n",
      " [1] \u001b[1mdepwarn\u001b[22m\u001b[22m\u001b[1m(\u001b[22m\u001b[22m::String, ::Symbol\u001b[1m)\u001b[22m\u001b[22m at \u001b[1m.\\deprecated.jl:70\u001b[22m\u001b[22m\n",
      " [2] \u001b[1minclude_from_node1\u001b[22m\u001b[22m\u001b[1m(\u001b[22m\u001b[22m::String\u001b[1m)\u001b[22m\u001b[22m at \u001b[1m.\\loading.jl:569\u001b[22m\u001b[22m\n",
      " [3] \u001b[1minclude\u001b[22m\u001b[22m\u001b[1m(\u001b[22m\u001b[22m::String\u001b[1m)\u001b[22m\u001b[22m at \u001b[1m.\\sysimg.jl:14\u001b[22m\u001b[22m\n",
      " [4] \u001b[1minclude_from_node1\u001b[22m\u001b[22m\u001b[1m(\u001b[22m\u001b[22m::String\u001b[1m)\u001b[22m\u001b[22m at \u001b[1m.\\loading.jl:569\u001b[22m\u001b[22m\n",
      " [5] \u001b[1minclude\u001b[22m\u001b[22m\u001b[1m(\u001b[22m\u001b[22m::String\u001b[1m)\u001b[22m\u001b[22m at \u001b[1m.\\sysimg.jl:14\u001b[22m\u001b[22m\n",
      " [6] \u001b[1manonymous\u001b[22m\u001b[22m at \u001b[1m.\\<missing>:2\u001b[22m\u001b[22m\n",
      " [7] \u001b[1meval\u001b[22m\u001b[22m\u001b[1m(\u001b[22m\u001b[22m::Module, ::Any\u001b[1m)\u001b[22m\u001b[22m at \u001b[1m.\\boot.jl:235\u001b[22m\u001b[22m\n",
      " [8] \u001b[1mprocess_options\u001b[22m\u001b[22m\u001b[1m(\u001b[22m\u001b[22m::Base.JLOptions\u001b[1m)\u001b[22m\u001b[22m at \u001b[1m.\\client.jl:286\u001b[22m\u001b[22m\n",
      " [9] \u001b[1m_start\u001b[22m\u001b[22m\u001b[1m(\u001b[22m\u001b[22m\u001b[1m)\u001b[22m\u001b[22m at \u001b[1m.\\client.jl:371\u001b[22m\u001b[22m\n",
      "while loading C:\\Users\\mao21\\.julia\\v0.6\\StatsBase\\src\\weights.jl, in expression starting on line 4\n",
      "\u001b[1m\u001b[33mWARNING: \u001b[39m\u001b[22m\u001b[33m@functorize is deprecated as functor objects are no longer supported in julia\u001b[39m\n",
      "Stacktrace:\n",
      " [1] \u001b[1mdepwarn\u001b[22m\u001b[22m\u001b[1m(\u001b[22m\u001b[22m::String, ::Symbol\u001b[1m)\u001b[22m\u001b[22m at \u001b[1m.\\deprecated.jl:70\u001b[22m\u001b[22m\n",
      " [2] \u001b[1minclude_from_node1\u001b[22m\u001b[22m\u001b[1m(\u001b[22m\u001b[22m::String\u001b[1m)\u001b[22m\u001b[22m at \u001b[1m.\\loading.jl:569\u001b[22m\u001b[22m\n",
      " [3] \u001b[1minclude\u001b[22m\u001b[22m\u001b[1m(\u001b[22m\u001b[22m::String\u001b[1m)\u001b[22m\u001b[22m at \u001b[1m.\\sysimg.jl:14\u001b[22m\u001b[22m\n",
      " [4] \u001b[1minclude_from_node1\u001b[22m\u001b[22m\u001b[1m(\u001b[22m\u001b[22m::String\u001b[1m)\u001b[22m\u001b[22m at \u001b[1m.\\loading.jl:569\u001b[22m\u001b[22m\n",
      " [5] \u001b[1minclude\u001b[22m\u001b[22m\u001b[1m(\u001b[22m\u001b[22m::String\u001b[1m)\u001b[22m\u001b[22m at \u001b[1m.\\sysimg.jl:14\u001b[22m\u001b[22m\n",
      " [6] \u001b[1manonymous\u001b[22m\u001b[22m at \u001b[1m.\\<missing>:2\u001b[22m\u001b[22m\n",
      " [7] \u001b[1meval\u001b[22m\u001b[22m\u001b[1m(\u001b[22m\u001b[22m::Module, ::Any\u001b[1m)\u001b[22m\u001b[22m at \u001b[1m.\\boot.jl:235\u001b[22m\u001b[22m\n",
      " [8] \u001b[1mprocess_options\u001b[22m\u001b[22m\u001b[1m(\u001b[22m\u001b[22m::Base.JLOptions\u001b[1m)\u001b[22m\u001b[22m at \u001b[1m.\\client.jl:286\u001b[22m\u001b[22m\n",
      " [9] \u001b[1m_start\u001b[22m\u001b[22m\u001b[1m(\u001b[22m\u001b[22m\u001b[1m)\u001b[22m\u001b[22m at \u001b[1m.\\client.jl:371\u001b[22m\u001b[22m\n",
      "while loading C:\\Users\\mao21\\.julia\\v0.6\\StatsBase\\src\\weights.jl, in expression starting on line 4\n",
      "\u001b[1m\u001b[33mWARNING: \u001b[39m\u001b[22m\u001b[33m@ngenerate is deprecated, used @generated function or (preferably) tuples/CartesianIndex instead\u001b[39m\n",
      "Stacktrace:\n",
      " [1] \u001b[1mdepwarn\u001b[22m\u001b[22m\u001b[1m(\u001b[22m\u001b[22m::String, ::Symbol\u001b[1m)\u001b[22m\u001b[22m at \u001b[1m.\\deprecated.jl:70\u001b[22m\u001b[22m\n",
      " [2] \u001b[1minclude_from_node1\u001b[22m\u001b[22m\u001b[1m(\u001b[22m\u001b[22m::String\u001b[1m)\u001b[22m\u001b[22m at \u001b[1m.\\loading.jl:569\u001b[22m\u001b[22m\n",
      " [3] \u001b[1minclude\u001b[22m\u001b[22m\u001b[1m(\u001b[22m\u001b[22m::String\u001b[1m)\u001b[22m\u001b[22m at \u001b[1m.\\sysimg.jl:14\u001b[22m\u001b[22m\n",
      " [4] \u001b[1minclude_from_node1\u001b[22m\u001b[22m\u001b[1m(\u001b[22m\u001b[22m::String\u001b[1m)\u001b[22m\u001b[22m at \u001b[1m.\\loading.jl:569\u001b[22m\u001b[22m\n",
      " [5] \u001b[1minclude\u001b[22m\u001b[22m\u001b[1m(\u001b[22m\u001b[22m::String\u001b[1m)\u001b[22m\u001b[22m at \u001b[1m.\\sysimg.jl:14\u001b[22m\u001b[22m\n",
      " [6] \u001b[1manonymous\u001b[22m\u001b[22m at \u001b[1m.\\<missing>:2\u001b[22m\u001b[22m\n",
      " [7] \u001b[1meval\u001b[22m\u001b[22m\u001b[1m(\u001b[22m\u001b[22m::Module, ::Any\u001b[1m)\u001b[22m\u001b[22m at \u001b[1m.\\boot.jl:235\u001b[22m\u001b[22m\n",
      " [8] \u001b[1mprocess_options\u001b[22m\u001b[22m\u001b[1m(\u001b[22m\u001b[22m::Base.JLOptions\u001b[1m)\u001b[22m\u001b[22m at \u001b[1m.\\client.jl:286\u001b[22m\u001b[22m\n",
      " [9] \u001b[1m_start\u001b[22m\u001b[22m\u001b[1m(\u001b[22m\u001b[22m\u001b[1m)\u001b[22m\u001b[22m at \u001b[1m.\\client.jl:371\u001b[22m\u001b[22m\n",
      "while loading C:\\Users\\mao21\\.julia\\v0.6\\StatsBase\\src\\weights.jl, in expression starting on line 4\n",
      "\u001b[1m\u001b[33mWARNING: \u001b[39m\u001b[22m\u001b[33m@functorize is deprecated as functor objects are no longer supported in julia\u001b[39m\n",
      "Stacktrace:\n",
      " [1] \u001b[1mdepwarn\u001b[22m\u001b[22m\u001b[1m(\u001b[22m\u001b[22m::String, ::Symbol\u001b[1m)\u001b[22m\u001b[22m at \u001b[1m.\\deprecated.jl:70\u001b[22m\u001b[22m\n",
      " [2] \u001b[1minclude_from_node1\u001b[22m\u001b[22m\u001b[1m(\u001b[22m\u001b[22m::String\u001b[1m)\u001b[22m\u001b[22m at \u001b[1m.\\loading.jl:569\u001b[22m\u001b[22m\n",
      " [3] \u001b[1minclude\u001b[22m\u001b[22m\u001b[1m(\u001b[22m\u001b[22m::String\u001b[1m)\u001b[22m\u001b[22m at \u001b[1m.\\sysimg.jl:14\u001b[22m\u001b[22m\n",
      " [4] \u001b[1minclude_from_node1\u001b[22m\u001b[22m\u001b[1m(\u001b[22m\u001b[22m::String\u001b[1m)\u001b[22m\u001b[22m at \u001b[1m.\\loading.jl:569\u001b[22m\u001b[22m\n",
      " [5] \u001b[1minclude\u001b[22m\u001b[22m\u001b[1m(\u001b[22m\u001b[22m::String\u001b[1m)\u001b[22m\u001b[22m at \u001b[1m.\\sysimg.jl:14\u001b[22m\u001b[22m\n",
      " [6] \u001b[1manonymous\u001b[22m\u001b[22m at \u001b[1m.\\<missing>:2\u001b[22m\u001b[22m\n",
      " [7] \u001b[1meval\u001b[22m\u001b[22m\u001b[1m(\u001b[22m\u001b[22m::Module, ::Any\u001b[1m)\u001b[22m\u001b[22m at \u001b[1m.\\boot.jl:235\u001b[22m\u001b[22m\n",
      " [8] \u001b[1mprocess_options\u001b[22m\u001b[22m\u001b[1m(\u001b[22m\u001b[22m::Base.JLOptions\u001b[1m)\u001b[22m\u001b[22m at \u001b[1m.\\client.jl:286\u001b[22m\u001b[22m\n",
      " [9] \u001b[1m_start\u001b[22m\u001b[22m\u001b[1m(\u001b[22m\u001b[22m\u001b[1m)\u001b[22m\u001b[22m at \u001b[1m.\\client.jl:371\u001b[22m\u001b[22m\n",
      "while loading C:\\Users\\mao21\\.julia\\v0.6\\StatsBase\\src\\weights.jl, in expression starting on line 4\n",
      "\u001b[1m\u001b[33mWARNING: \u001b[39m\u001b[22m\u001b[33m@ngenerate is deprecated, used @generated function or (preferably) tuples/CartesianIndex instead\u001b[39m\n",
      "Stacktrace:\n",
      " [1] \u001b[1mdepwarn\u001b[22m\u001b[22m\u001b[1m(\u001b[22m\u001b[22m::String, ::Symbol\u001b[1m)\u001b[22m\u001b[22m at \u001b[1m.\\deprecated.jl:70\u001b[22m\u001b[22m\n",
      " [2] \u001b[1minclude_from_node1\u001b[22m\u001b[22m\u001b[1m(\u001b[22m\u001b[22m::String\u001b[1m)\u001b[22m\u001b[22m at \u001b[1m.\\loading.jl:569\u001b[22m\u001b[22m\n",
      " [3] \u001b[1minclude\u001b[22m\u001b[22m\u001b[1m(\u001b[22m\u001b[22m::String\u001b[1m)\u001b[22m\u001b[22m at \u001b[1m.\\sysimg.jl:14\u001b[22m\u001b[22m\n",
      " [4] \u001b[1minclude_from_node1\u001b[22m\u001b[22m\u001b[1m(\u001b[22m\u001b[22m::String\u001b[1m)\u001b[22m\u001b[22m at \u001b[1m.\\loading.jl:569\u001b[22m\u001b[22m\n",
      " [5] \u001b[1minclude\u001b[22m\u001b[22m\u001b[1m(\u001b[22m\u001b[22m::String\u001b[1m)\u001b[22m\u001b[22m at \u001b[1m.\\sysimg.jl:14\u001b[22m\u001b[22m\n",
      " [6] \u001b[1manonymous\u001b[22m\u001b[22m at \u001b[1m.\\<missing>:2\u001b[22m\u001b[22m\n",
      " [7] \u001b[1meval\u001b[22m\u001b[22m\u001b[1m(\u001b[22m\u001b[22m::Module, ::Any\u001b[1m)\u001b[22m\u001b[22m at \u001b[1m.\\boot.jl:235\u001b[22m\u001b[22m\n",
      " [8] \u001b[1mprocess_options\u001b[22m\u001b[22m\u001b[1m(\u001b[22m\u001b[22m::Base.JLOptions\u001b[1m)\u001b[22m\u001b[22m at \u001b[1m.\\client.jl:286\u001b[22m\u001b[22m\n",
      " [9] \u001b[1m_start\u001b[22m\u001b[22m\u001b[1m(\u001b[22m\u001b[22m\u001b[1m)\u001b[22m\u001b[22m at \u001b[1m.\\client.jl:371\u001b[22m\u001b[22m\n",
      "while loading C:\\Users\\mao21\\.julia\\v0.6\\StatsBase\\src\\scalarstats.jl, in expression starting on line 4\n",
      "\u001b[1m\u001b[36mINFO: \u001b[39m\u001b[22m\u001b[36mRecompiling stale cache file C:\\Users\\mao21\\.julia\\lib\\v0.6\\Distributions.ji for module Distributions.\n",
      "\u001b[39mWARNING: "
     ]
    },
    {
     "data": {
      "text/plain": [
       "(Array{Int64,1}[[126, 84, 9, 60, 19, 11, 45, 76, 31, 112  …  29, 41, 49, 58, 130, 120, 72, 23, 143, 21], [19, 76, 37, 138, 60, 126, 100, 72, 41, 56  …  84, 1, 33, 94, 74, 47, 13, 31, 35, 141], [15, 143, 97, 25, 120, 49, 1, 76, 54, 126  …  41, 141, 9, 23, 51, 122, 123, 58, 68, 45], [29, 39, 146, 54, 41, 88, 13, 101, 56, 131  …  45, 83, 97, 8, 134, 109, 98, 137, 110, 121], [25, 51, 16, 64, 126, 84, 130, 18, 46, 36  …  50, 57, 32, 55, 86, 12, 33, 121, 49, 17], [49, 74, 56, 123, 143, 100, 19, 72, 94, 53  …  23, 51, 62, 141, 47, 21, 86, 37, 35, 43], [72, 100, 33, 56, 31, 94, 47, 35, 37, 141  …  97, 19, 13, 39, 41, 76, 51, 130, 25, 121], [29, 144, 54, 130, 13, 120, 71, 60, 94, 100  …  39, 86, 56, 121, 125, 8, 33, 73, 25, 35], [9, 80, 105, 21, 112, 103, 127, 102, 17, 75  …  90, 51, 88, 93, 122, 85, 95, 101, 100, 129], [49, 15, 96, 86, 140, 81, 39, 67, 132, 130  …  144, 47, 99, 146, 139, 108, 17, 75, 25, 145]  …  [15, 9, 39, 133, 109, 49, 77, 75, 140, 58  …  35, 126, 129, 53, 132, 45, 33, 139, 127, 27], [100, 58, 98, 13, 115, 150, 91, 75, 80, 103  …  41, 79, 139, 95, 118, 105, 53, 35, 132, 123], [11, 109, 15, 56, 86, 148, 142, 6, 81, 97  …  33, 149, 94, 150, 122, 145, 25, 144, 29, 137], [54, 59, 18, 126, 36, 58, 122, 141, 130, 63  …  42, 61, 138, 22, 97, 37, 10, 45, 3, 13], [27, 41, 37, 54, 13, 56, 36, 112, 3, 34  …  42, 120, 61, 29, 19, 141, 97, 24, 52, 60], [1, 53, 51, 74, 130, 120, 121, 29, 49, 47  …  41, 72, 76, 35, 9, 19, 33, 17, 45, 25], [77, 31, 127, 134, 132, 150, 109, 140, 67, 128  …  17, 135, 130, 122, 147, 53, 58, 15, 144, 8], [123, 116, 132, 119, 108, 39, 37, 75, 127, 54  …  51, 139, 62, 91, 81, 5, 125, 133, 35, 94], [96, 11, 21, 31, 91, 17, 6, 108, 99, 130  …  114, 106, 97, 60, 51, 77, 45, 111, 43, 75], [100, 37, 39, 86, 112, 97, 126, 9, 94, 54  …  25, 13, 68, 41, 1, 122, 121, 58, 35, 123]], Array{Int64,1}[[44, 636, 277, 1142, 792, 1030, 492, 933, 1205, 790  …  424, 899, 1196, 565, 361, 711, 680, 1266, 419, 76], [1090, 1124, 420, 1006, 794, 743, 835, 846, 310, 46  …  48, 451, 916, 1386, 561, 868, 6, 774, 221, 286], [1374, 1465, 925, 1349, 51, 1231, 485, 22, 532, 657  …  337, 1140, 859, 222, 715, 1099, 598, 889, 1025, 1003], [1391, 1282, 1378, 64, 694, 936, 938, 756, 802, 1011  …  1207, 1400, 955, 1134, 517, 215, 407, 616, 734, 428], [202, 849, 1154, 220, 117, 547, 1418, 235, 529, 1398  …  1343, 196, 203, 229, 1459, 1440, 1439, 789, 1097, 514], [207, 86, 1110, 281, 529, 1195, 249, 1493, 506, 1454  …  639, 77, 881, 1011, 69, 626, 452, 1299, 1321, 275], [1108, 342, 221, 995, 351, 1223, 1229, 690, 1412, 743  …  346, 867, 548, 1251, 420, 1067, 957, 658, 46, 1116], [364, 1254, 196, 345, 920, 284, 906, 639, 457, 1002  …  1267, 407, 1343, 146, 546, 86, 1094, 1161, 325, 1357], [594, 1469, 808, 1221, 625, 834, 412, 416, 1423, 875  …  1171, 576, 1468, 1083, 7, 333, 365, 552, 237, 747], [1084, 443, 1445, 1149, 625, 1280, 1368, 41, 661, 992  …  36, 925, 109, 620, 257, 1096, 1305, 160, 657, 1079]  …  [67, 1476, 359, 551, 622, 1152, 204, 831, 1297, 789  …  1344, 113, 266, 1097, 754, 514, 1314, 529, 747, 1244], [79, 1065, 713, 898, 790, 386, 107, 232, 1478, 1081  …  1412, 1177, 615, 410, 179, 361, 903, 263, 1392, 317], [192, 389, 493, 1138, 1482, 1262, 54, 216, 1439, 698  …  586, 234, 709, 514, 1354, 530, 29, 1315, 737, 236], [1491, 554, 806, 1152, 340, 1056, 1294, 85, 1282, 393  …  1029, 428, 175, 1097, 54, 114, 383, 1487, 1087, 1248], [1469, 782, 1497, 67, 589, 495, 1440, 880, 1138, 284  …  1462, 198, 397, 908, 802, 364, 435, 31, 1286, 80], [442, 124, 1115, 918, 1123, 402, 831, 975, 779, 965  …  125, 1267, 1097, 106, 1398, 1407, 738, 869, 447, 35], [77, 84, 1048, 838, 498, 1385, 225, 767, 883, 382  …  758, 689, 525, 387, 906, 90, 1174, 765, 238, 1128], [1491, 622, 506, 1209, 872, 171, 1238, 978, 607, 540  …  1409, 1161, 1022, 372, 639, 168, 761, 1464, 437, 154], [739, 1215, 439, 1420, 860, 253, 800, 1022, 775, 955  …  175, 769, 810, 1222, 1118, 1219, 747, 429, 568, 1123], [144, 493, 762, 671, 1076, 1240, 73, 545, 1282, 81  …  1118, 452, 431, 1201, 91, 1254, 724, 456, 904, 757]], [118, 1, 1, 1, 1, 2, 81, 3, 18, 3  …  7, 3, 6, 2, 6, 8, 24, 33, 8, 6])"
      ]
     },
     "execution_count": 2,
     "metadata": {},
     "output_type": "execute_result"
    },
    {
     "name": "stderr",
     "output_type": "stream",
     "text": [
      "Compat.UTF8String is deprecated, use String instead.\n",
      "  likely near In[2]:3\n",
      "WARNING: Compat.UTF8String is deprecated, use String instead.\n",
      "  likely near In[2]:3\n",
      "WARNING: Compat.UTF8String is deprecated, use String instead.\n",
      "  likely near In[2]:3\n",
      "WARNING: Compat.UTF8String is deprecated, use String instead.\n",
      "  likely near In[2]:3\n",
      "WARNING: Compat.UTF8String is deprecated, use String instead.\n",
      "  likely near In[2]:3\n",
      "WARNING: Compat.UTF8String is deprecated, use String instead.\n",
      "  likely near In[2]:3\n",
      "WARNING: Compat.UTF8String is deprecated, use String instead.\n",
      "  likely near In[2]:3\n",
      "WARNING: Compat.UTF8String is deprecated, use String instead.\n",
      "  likely near In[2]:3\n",
      "WARNING: Compat.UTF8String is deprecated, use String instead.\n",
      "  likely near In[2]:3\n",
      "WARNING: Compat.UTF8String is deprecated, use String instead.\n",
      "  likely near In[2]:3\n",
      "WARNING: Compat.UTF8String is deprecated, use String instead.\n",
      "  likely near In[2]:3\n",
      "WARNING: Compat.UTF8String is deprecated, use String instead.\n",
      "  likely near In[2]:3\n",
      "WARNING: Compat.UTF8String is deprecated, use String instead.\n",
      "  likely near In[2]:3\n",
      "WARNING: Compat.UTF8String is deprecated, use String instead.\n",
      "  likely near In[2]:3\n",
      "WARNING: Compat.UTF8String is deprecated, use String instead.\n",
      "  likely near In[2]:3\n",
      "WARNING: Compat.UTF8String is deprecated, use String instead.\n",
      "  likely near In[2]:3\n",
      "WARNING: Compat.UTF8String is deprecated, use String instead.\n",
      "  likely near In[2]:3\n",
      "WARNING: Compat.UTF8String is deprecated, use String instead.\n",
      "  likely near In[2]:3\n",
      "WARNING: Compat.UTF8String is deprecated, use String instead.\n",
      "  likely near In[2]:3\n",
      "WARNING: Compat.UTF8String is deprecated, use String instead.\n",
      "  likely near In[2]:3\n",
      "WARNING: Compat.UTF8String is deprecated, use String instead.\n",
      "  likely near In[2]:3\n",
      "WARNING: Compat.UTF8String is deprecated, use String instead.\n",
      "  likely near In[2]:3\n",
      "WARNING: Compat.UTF8String is deprecated, use String instead.\n",
      "  likely near In[2]:3\n",
      "in #readtable#84 at C:\\Users\\mao21\\.julia\\v0.6\\DataFrames\\src\\dataframe\\io.jl\n",
      "WARNING: Compat.UTF8String is deprecated, use String instead.\n",
      "  likely near In[2]:3\n",
      "in #readtable#84 at C:\\Users\\mao21\\.julia\\v0.6\\DataFrames\\src\\dataframe\\io.jl\n",
      "WARNING: Compat.UTF8String is deprecated, use String instead.\n",
      "  likely near In[2]:3\n",
      "WARNING: Compat.UTF8String is deprecated, use String instead.\n",
      "  likely near In[2]:3\n",
      "WARNING: Compat.UTF8String is deprecated, use String instead.\n",
      "  likely near In[2]:3\n",
      "WARNING: Compat.UTF8String is deprecated, use String instead.\n",
      "  likely near In[2]:3\n",
      "WARNING: Compat.UTF8String is deprecated, use String instead.\n",
      "  likely near In[2]:3\n",
      "WARNING: Compat.UTF8String is deprecated, use String instead.\n",
      "  likely near In[2]:3\n",
      "WARNING: Compat.UTF8String is deprecated, use String instead.\n",
      "  likely near In[2]:3\n",
      "in builddf at C:\\Users\\mao21\\.julia\\v0.6\\DataFrames\\src\\dataframe\\io.jl\n"
     ]
    }
   ],
   "source": [
    "using ShingakuMatching\n",
    "\n",
    "departments = get_departments()\n",
    "\n",
    "num_students = 1500\n",
    "students = get_students(num_students)\n",
    "\n",
    "prop_prefs, resp_prefs, caps = get_random_prefs(students, departments)"
   ]
  },
  {
   "cell_type": "markdown",
   "metadata": {},
   "source": [
    "以下では、学科にとって最適な定員数を考える。"
   ]
  },
  {
   "cell_type": "markdown",
   "metadata": {},
   "source": [
    "学生の内定により発生する学科の利得は、次のように定める。Shingakumatchingでは、学生の志望する学科の選好リストにその学生が必ず含まれるため、選好リスト内には必ずしも学科の利得を上昇させない学生が含まれていると考えられる。\n",
    "\n",
    "ここから、当該学生が学科の選好リストの下位50パーセントに属す場合、学科の利得は0とみなすこととする。\n",
    "\n",
    "それ以外の場合は、1/2　×（学生全体の人数）ー（学生に対する学科の選好順位）の大きさで決まるものとする。"
   ]
  },
  {
   "cell_type": "markdown",
   "metadata": {},
   "source": [
    "まず、学科が定員を設けない場合のマッチングを考える。"
   ]
  },
  {
   "cell_type": "code",
   "execution_count": 3,
   "metadata": {},
   "outputs": [
    {
     "data": {
      "text/plain": [
       "1500"
      ]
     },
     "execution_count": 3,
     "metadata": {},
     "output_type": "execute_result"
    }
   ],
   "source": [
    "limitless_caps = Vector{Int}(length(caps))\n",
    "limitless_caps[1:end] = num_students"
   ]
  },
  {
   "cell_type": "code",
   "execution_count": 4,
   "metadata": {},
   "outputs": [
    {
     "data": {
      "text/plain": [
       "([126, 19, 15, 29, 25, 49, 72, 29, 9, 49  …  15, 100, 11, 54, 27, 1, 77, 123, 96, 100], [448, 471, 632, 711, 948, 976, 1150, 1496, 0, 0  …  0, 0, 0, 0, 0, 0, 0, 0, 0, 0], [1, 1501, 3001, 4501, 6001, 7501, 9001, 10501, 12001, 13501  …  213001, 214501, 216001, 217501, 219001, 220501, 222001, 223501, 225001, 226501])"
      ]
     },
     "execution_count": 4,
     "metadata": {},
     "output_type": "execute_result"
    }
   ],
   "source": [
    "limitless_prop_matched, limitless_resp_matched, limitless_indptr = my_deferred_acceptance(prop_prefs, resp_prefs, limitless_caps)"
   ]
  },
  {
   "cell_type": "markdown",
   "metadata": {},
   "source": [
    "まず、定員を設けなかった場合の学科側のマッチング結果(limitless_resp_matched)から、学科にとって利得が0の学生を排除し、各学科の利得が損なわれないように定員数を削減する。\n",
    "\n",
    "以下の関数を用いる。"
   ]
  },
  {
   "cell_type": "code",
   "execution_count": 5,
   "metadata": {},
   "outputs": [
    {
     "data": {
      "text/plain": [
       "decrease_caps (generic function with 1 method)"
      ]
     },
     "execution_count": 5,
     "metadata": {},
     "output_type": "execute_result"
    }
   ],
   "source": [
    "function decrease_caps(caps,resp_matched,resp_prefs,indptr)\n",
    "    decreased_caps = copy(caps)\n",
    "    function student_resp_rank(resp_number)\n",
    "        w = resp_matched[indptr[resp_number]:indptr[resp_number+1]-1]\n",
    "        st_ranking = Array{Int}(length(w),2)\n",
    "        st_ranking[1:end] = 0\n",
    "        y = 1\n",
    "        while y <= caps[resp_number]\n",
    "            if !(w[y] == 0) \n",
    "                resp_rank = 1\n",
    "                pref = resp_prefs[resp_number]\n",
    "                while !(pref[resp_rank] == w[y])\n",
    "                    resp_rank += 1\n",
    "                end\n",
    "                st_ranking[y,1] = resp_rank\n",
    "                st_ranking[y,2] = w[y]\n",
    "            else\n",
    "                break\n",
    "            end\n",
    "            y += 1\n",
    "        end\n",
    "        return st_ranking\n",
    "    end\n",
    "    \n",
    "    resp_number = 1\n",
    "    while resp_number <= length(caps)\n",
    "        st_ranking = student_resp_rank(resp_number)\n",
    "        i = 1\n",
    "        while i <= length(st_ranking[:,2])\n",
    "            if !(st_ranking[i,1] <= (1/2 * length(resp_prefs[resp_number]))) || (st_ranking[i,1] == 0)\n",
    "                decreased_caps[resp_number] -= 1\n",
    "            end\n",
    "            i += 1\n",
    "        end\n",
    "        resp_number += 1\n",
    "    end\n",
    "    return decreased_caps\n",
    "end"
   ]
  },
  {
   "cell_type": "code",
   "execution_count": 6,
   "metadata": {},
   "outputs": [
    {
     "data": {
      "text/plain": [
       "151-element Array{Int64,1}:\n",
       "  4\n",
       "  4\n",
       "  3\n",
       "  1\n",
       "  0\n",
       "  2\n",
       "  3\n",
       "  4\n",
       " 10\n",
       "  2\n",
       " 14\n",
       "  1\n",
       "  8\n",
       "  ⋮\n",
       "  3\n",
       "  5\n",
       "  9\n",
       "  5\n",
       "  4\n",
       "  3\n",
       "  2\n",
       "  5\n",
       "  3\n",
       "  4\n",
       "  3\n",
       "  0"
      ]
     },
     "execution_count": 6,
     "metadata": {},
     "output_type": "execute_result"
    }
   ],
   "source": [
    "decreased_caps = decrease_caps(limitless_caps,limitless_resp_matched,resp_prefs,limitless_indptr)"
   ]
  },
  {
   "cell_type": "markdown",
   "metadata": {},
   "source": [
    "実際にこの定員数を用いてマッチングを行う"
   ]
  },
  {
   "cell_type": "code",
   "execution_count": 7,
   "metadata": {},
   "outputs": [
    {
     "data": {
      "text/plain": [
       "([0, 0, 0, 0, 0, 0, 97, 37, 124, 97  …  145, 0, 0, 55, 0, 0, 134, 0, 127, 0], [636, 277, 44, 792, 420, 1006, 794, 1090, 51, 1374  …  84, 77, 225, 506, 1209, 872, 171, 739, 439, 1215], [1, 5, 9, 12, 13, 13, 15, 18, 22, 32  …  723, 728, 732, 735, 737, 742, 745, 749, 752, 752])"
      ]
     },
     "execution_count": 7,
     "metadata": {},
     "output_type": "execute_result"
    }
   ],
   "source": [
    "decreased_prop_matched, decreased_resp_matched, decreased_indptr = my_deferred_acceptance(prop_prefs, resp_prefs, decreased_caps)"
   ]
  },
  {
   "cell_type": "markdown",
   "metadata": {},
   "source": [
    "以下では、学科にとって、decreased_capsから定員数を増やす誘因があるかを調べる。"
   ]
  },
  {
   "cell_type": "markdown",
   "metadata": {},
   "source": [
    "ある学科の定員数を増やした際に、その学科への移動を希望する学生と、その学生に対する学科の選好順位のリストを作成する関数を以下のように設定する。"
   ]
  },
  {
   "cell_type": "code",
   "execution_count": 8,
   "metadata": {},
   "outputs": [
    {
     "data": {
      "text/plain": [
       "trans_ranking (generic function with 1 method)"
      ]
     },
     "execution_count": 8,
     "metadata": {},
     "output_type": "execute_result"
    }
   ],
   "source": [
    "function trans_ranking(resp_number,prop_matched)\n",
    "    trans_list = Vector{Int}(num_students)\n",
    "    trans_rank = Array{Int}(num_students,2)    \n",
    "    trans_list[1:end] = 0\n",
    "    trans_rank[1:end] = 0\n",
    "    k = 1\n",
    "    for x in 1:num_students\n",
    "        if resp_number in prop_prefs[x]\n",
    "            if prop_matched[x] == 0\n",
    "                trans_list[k] = x\n",
    "                k += 1\n",
    "            else\n",
    "                n = 1\n",
    "                m = 1\n",
    "                while !((prop_prefs[x][n]) == prop_matched[x])\n",
    "                    n += 1\n",
    "                end\n",
    "                while !((prop_prefs[x][m]) == resp_number)\n",
    "                    m += 1\n",
    "                end\n",
    "                if min(m,n) == m\n",
    "                    trans_list[k] = x\n",
    "                    k += 1\n",
    "                else\n",
    "                    continue\n",
    "                end\n",
    "            end\n",
    "        end\n",
    "    end\n",
    "    y = 1\n",
    "    if !(trans_list == []) && !(sum(trans_list) == 0)\n",
    "        while y <= length(trans_list)\n",
    "            if trans_list[y] == 0\n",
    "                break\n",
    "            else\n",
    "                rank = 1\n",
    "                while !((resp_prefs[resp_number][rank]) == trans_list[y])\n",
    "                    rank += 1\n",
    "                end\n",
    "                trans_rank[y,2] = rank\n",
    "                trans_rank[y,1]= trans_list[y]\n",
    "            end\n",
    "            y += 1\n",
    "        end\n",
    "        trans_order = view(trans_rank,1:y-1,:)\n",
    "        sort(trans_order,1,rev=false)\n",
    "    else\n",
    "        trans_order = 0\n",
    "    end\n",
    "    return trans_order\n",
    "end"
   ]
  },
  {
   "cell_type": "markdown",
   "metadata": {},
   "source": [
    "trans_orderをもとに、定員を増やすことで学科が得られる利得を計算する関数を以下のように定める。"
   ]
  },
  {
   "cell_type": "code",
   "execution_count": 9,
   "metadata": {},
   "outputs": [
    {
     "data": {
      "text/plain": [
       "increase_caps_benefit (generic function with 1 method)"
      ]
     },
     "execution_count": 9,
     "metadata": {},
     "output_type": "execute_result"
    }
   ],
   "source": [
    "function increase_caps_benefit(resp_number,trans_order,prop_matched)\n",
    "    z = 1\n",
    "    delta_benefit = [0]\n",
    "    if !(trans_order == 0)\n",
    "        while ((trans_order[z,1]) <= (1/2 * length(resp_prefs[resp_number]))) && !(trans_order[z,1] == trans_order[end,1])\n",
    "            push!(delta_benefit, (1/2 * num_students) - (trans_order[z,1]))\n",
    "            z += 1\n",
    "        end\n",
    "        shift!(delta_benefit)\n",
    "    else\n",
    "        delta_benefit = []\n",
    "    end\n",
    "    return delta_benefit\n",
    "end"
   ]
  },
  {
   "cell_type": "markdown",
   "metadata": {},
   "source": [
    "上の二つの関数を利用し、学科にとって最適な定員を求めるため、以下の関数を設定する。"
   ]
  },
  {
   "cell_type": "code",
   "execution_count": 10,
   "metadata": {},
   "outputs": [
    {
     "data": {
      "text/plain": [
       "resp_optimal_caps (generic function with 1 method)"
      ]
     },
     "execution_count": 10,
     "metadata": {},
     "output_type": "execute_result"
    }
   ],
   "source": [
    "function resp_optimal_caps(caps,prop_matched)\n",
    "    resp_opt_caps = copy(caps)\n",
    "    i = Vector{Int}(length(caps))\n",
    "    i[1:end] = 1\n",
    "    while sum(resp_opt_caps) <= num_students\n",
    "        max_benefit = 0\n",
    "        resp_num = 0\n",
    "        resp_other_num = [0]\n",
    "        resp_number = 1\n",
    "        resp_box = 0\n",
    "        stop = false\n",
    "        while resp_number <= length(caps)\n",
    "            trans_order = trans_ranking(resp_number,prop_matched)\n",
    "            delta_benefit = increase_caps_benefit(resp_number,trans_order,prop_matched)\n",
    "            if delta_benefit[i[resp_number]] <= max_benefit\n",
    "                if delta_benefit[i[resp_number]] == max_benefit\n",
    "                    push!(resp_other_num,resp_number)\n",
    "                end\n",
    "            else\n",
    "                max_benefit = delta_benefit[i[resp_number]]\n",
    "                resp_num = resp_number\n",
    "                resp_other_num = [0]\n",
    "            end\n",
    "            resp_number += 1\n",
    "        end\n",
    "        if max_benefit == 0\n",
    "            break\n",
    "        end\n",
    "        resp_opt_caps[resp_num] += 1\n",
    "        i[resp_num] += 1\n",
    "        if !(resp_other_num == [0])\n",
    "            shift!(resp_other_num)\n",
    "            m = 1\n",
    "            while m <= length(resp_other_num)\n",
    "                if !(num_students <= sum(resp_opt_caps))\n",
    "                    resp_opt_caps[resp_other_num[m]] += 1\n",
    "                    i[resp_other_num[m]] += 1\n",
    "                else\n",
    "                    for n in 1:m-1\n",
    "                        resp_opt_caps[resp_other_num[n]] -= 1\n",
    "                    end\n",
    "                    resp_opt_caps[resp_num] -= 1\n",
    "                    println(\"$resp_num and $resp_other_num can increase their caps.\")\n",
    "                    resp_box = push!(resp_other_num, resp_num)\n",
    "                    stop = true\n",
    "                    break\n",
    "                end\n",
    "                m += 1\n",
    "            end\n",
    "        end\n",
    "        if stop\n",
    "            break\n",
    "        end\n",
    "    end\n",
    "    if resp_box == 0\n",
    "        resp_box = resp_num\n",
    "    end\n",
    "    return resp_opt_caps,resp_box\n",
    "end"
   ]
  },
  {
   "cell_type": "markdown",
   "metadata": {},
   "source": [
    "実際に、resp_opt_capsを求めてみると、以下のようになる。"
   ]
  },
  {
   "cell_type": "code",
   "execution_count": 11,
   "metadata": {
    "scrolled": false
   },
   "outputs": [
    {
     "name": "stdout",
     "output_type": "stream",
     "text": [
      "3 and [9, 10, 11, 12, 13, 14, 15, 16, 17, 18, 19, 20, 21, 22, 23, 24, 25, 26, 27, 28, 29, 30, 31, 32, 33, 34, 35, 36, 37, 38, 39, 40, 41, 42, 43, 44, 45, 46, 47, 48, 49, 50, 51, 52, 53, 54, 55, 56, 57, 58, 59, 60, 61, 62, 63, 64, 65, 66, 70, 72, 74, 76, 84, 86, 94, 97, 100, 102, 112, 120, 121, 122, 123, 124, 126, 130, 138, 141, 143] can increase their caps.\n"
     ]
    },
    {
     "data": {
      "text/plain": [
       "([9, 6, 4, 4, 0, 5, 5, 6, 21, 3  …  11, 13, 9, 6, 4, 6, 7, 4, 6, 2], [9, 10, 11, 12, 13, 14, 15, 16, 17, 18  …  121, 122, 123, 124, 126, 130, 138, 141, 143, 3])"
      ]
     },
     "execution_count": 11,
     "metadata": {},
     "output_type": "execute_result"
    }
   ],
   "source": [
    "resp_opt_caps,resp_box = resp_optimal_caps(decreased_caps,decreased_prop_matched)"
   ]
  },
  {
   "cell_type": "code",
   "execution_count": 12,
   "metadata": {
    "scrolled": false
   },
   "outputs": [
    {
     "data": {
      "text/plain": [
       "1498"
      ]
     },
     "execution_count": 12,
     "metadata": {},
     "output_type": "execute_result"
    }
   ],
   "source": [
    "sum(resp_opt_caps)"
   ]
  },
  {
   "cell_type": "code",
   "execution_count": 13,
   "metadata": {},
   "outputs": [
    {
     "data": {
      "text/plain": [
       "80"
      ]
     },
     "execution_count": 13,
     "metadata": {},
     "output_type": "execute_result"
    }
   ],
   "source": [
    "length(resp_box)"
   ]
  },
  {
   "cell_type": "markdown",
   "metadata": {},
   "source": [
    "以上の結果から、resp_opt_capsからさらに全体で2人定員を増やすことができることがわかる。\n",
    "\n",
    "resp_boxに含まれる学科であればどの学科の定員を増やしても学科全体の利得の増え方は変わらない。\n",
    "\n",
    "よって、resp_box内で2つ学科を選ぶような組み合わせを考えれば、最適な定員数が何通り考えられるかがわかる。"
   ]
  },
  {
   "cell_type": "code",
   "execution_count": 14,
   "metadata": {
    "collapsed": true
   },
   "outputs": [],
   "source": [
    "using Iterators"
   ]
  },
  {
   "cell_type": "code",
   "execution_count": 16,
   "metadata": {},
   "outputs": [
    {
     "data": {
      "text/plain": [
       "3160"
      ]
     },
     "execution_count": 16,
     "metadata": {},
     "output_type": "execute_result"
    }
   ],
   "source": [
    "c = 0\n",
    "for i in subsets(resp_box,num_students - sum(resp_opt_caps))\n",
    "    c += 1\n",
    "end\n",
    "c"
   ]
  },
  {
   "cell_type": "markdown",
   "metadata": {
    "collapsed": true
   },
   "source": [
    "以上より、今回の試行では、学科全体にとって最適な定員数は3160通り考えられる。"
   ]
  },
  {
   "cell_type": "markdown",
   "metadata": {},
   "source": [
    "以上で検証を終える。"
   ]
  }
 ],
 "metadata": {
  "kernelspec": {
   "display_name": "Julia 0.6.0",
   "language": "julia",
   "name": "julia-0.6"
  },
  "language_info": {
   "file_extension": ".jl",
   "mimetype": "application/julia",
   "name": "julia",
   "version": "0.6.0"
  }
 },
 "nbformat": 4,
 "nbformat_minor": 2
}
