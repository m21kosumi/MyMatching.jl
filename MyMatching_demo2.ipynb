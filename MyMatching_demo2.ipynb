{
 "cells": [
  {
   "cell_type": "markdown",
   "metadata": {},
   "source": [
    "小住真央のデモノートです。コードは[こちら](https://github.com/m21kosumi/MyMatching.jl/blob/master/src/MyMatching.jl)"
   ]
  },
  {
   "cell_type": "code",
   "execution_count": 1,
   "metadata": {
    "collapsed": true
   },
   "outputs": [],
   "source": [
    "using MyMatching"
   ]
  },
  {
   "cell_type": "markdown",
   "metadata": {},
   "source": [
    "testを実行します。"
   ]
  },
  {
   "cell_type": "code",
   "execution_count": 2,
   "metadata": {
    "scrolled": true
   },
   "outputs": [
    {
     "name": "stderr",
     "output_type": "stream",
     "text": [
      "\u001b[1m\u001b[36mINFO: \u001b[39m\u001b[22m\u001b[36mTesting MyMatching\n",
      "\u001b[39m"
     ]
    },
    {
     "name": "stdout",
     "output_type": "stream",
     "text": [
      "\u001b[1m\u001b[37mTest Summary:               | \u001b[39m\u001b[22m\u001b[1m\u001b[32mPass  \u001b[39m\u001b[22m\u001b[1m\u001b[36mTotal\u001b[39m\u001b[22m\n",
      "Testing deferred acceptance | \u001b[32m  18  \u001b[39m\u001b[36m   18\u001b[39m\n"
     ]
    },
    {
     "name": "stderr",
     "output_type": "stream",
     "text": [
      "\u001b[1m\u001b[36mINFO: \u001b[39m\u001b[22m\u001b[36mMyMatching tests passed\n",
      "\u001b[39m"
     ]
    }
   ],
   "source": [
    "Pkg.test(\"MyMatching\")"
   ]
  },
  {
   "cell_type": "markdown",
   "metadata": {},
   "source": [
    "ShingakuMatchingを用いて進学選択シミュレーションを行います。"
   ]
  },
  {
   "cell_type": "code",
   "execution_count": 3,
   "metadata": {
    "scrolled": false
   },
   "outputs": [
    {
     "data": {
      "text/plain": [
       "(Array{Int64,1}[[23, 6, 56, 102, 77, 83, 123, 45, 51, 129  …  35, 75, 145, 148, 19, 116, 9, 84, 25, 27], [95, 89, 27, 54, 29, 126, 58, 128, 101, 118  …  151, 4, 31, 139, 49, 98, 91, 132, 102, 90], [100, 102, 76, 26, 34, 124, 56, 122, 58, 54  …  62, 36, 43, 20, 21, 40, 27, 138, 86, 123], [113, 145, 107, 37, 47, 97, 60, 142, 6, 79  …  85, 56, 105, 146, 25, 126, 136, 13, 118, 62], [18, 86, 102, 22, 14, 64, 10, 46, 126, 37  …  123, 47, 43, 27, 44, 60, 36, 61, 33, 30], [127, 132, 62, 15, 126, 58, 106, 91, 51, 134  …  6, 27, 86, 39, 33, 43, 49, 146, 29, 13], [142, 140, 111, 131, 54, 114, 41, 23, 35, 144  …  119, 81, 13, 51, 67, 139, 39, 125, 120, 109], [24, 41, 49, 42, 72, 56, 11, 74, 65, 112  …  66, 102, 22, 51, 62, 37, 52, 23, 38, 141], [45, 19, 34, 100, 60, 74, 64, 84, 18, 122  …  112, 50, 65, 49, 58, 121, 70, 48, 47, 124], [2, 86, 74, 53, 84, 124, 15, 123, 120, 97  …  19, 7, 138, 21, 17, 102, 47, 39, 121, 143]  …  [100, 31, 121, 3, 49, 51, 16, 86, 55, 40  …  22, 46, 76, 45, 25, 61, 13, 26, 11, 30], [15, 122, 71, 27, 25, 86, 96, 8, 111, 126  …  128, 33, 29, 145, 77, 45, 9, 146, 131, 84], [113, 79, 51, 84, 146, 126, 90, 132, 11, 101  …  21, 142, 130, 137, 145, 75, 62, 128, 129, 87], [78, 31, 142, 39, 97, 130, 126, 94, 121, 37  …  86, 19, 54, 77, 128, 80, 103, 148, 6, 11], [139, 140, 75, 56, 19, 108, 25, 83, 102, 135  …  116, 126, 8, 99, 47, 124, 23, 96, 60, 31], [12, 126, 57, 9, 32, 52, 58, 41, 35, 65  …  15, 46, 60, 25, 130, 30, 40, 24, 27, 13], [1, 17, 27, 112, 97, 122, 126, 120, 86, 130  …  19, 15, 51, 9, 72, 56, 21, 25, 47, 141], [130, 75, 43, 11, 17, 77, 146, 148, 100, 96  …  71, 23, 62, 8, 31, 81, 99, 142, 29, 137], [58, 130, 33, 19, 17, 37, 112, 122, 29, 143  …  121, 23, 43, 51, 97, 120, 74, 45, 102, 27], [16, 120, 13, 31, 48, 27, 45, 22, 100, 40  …  47, 50, 124, 58, 38, 51, 23, 14, 39, 19]], Array{Int64,1}[[209, 86, 199, 171, 240, 208, 95, 170, 34, 212  …  224, 290, 138, 180, 54, 267, 197, 164, 68, 179], [215, 98, 142, 28, 134, 276, 38, 16, 257, 104  …  10, 35, 288, 49, 151, 161, 285, 129, 145, 105], [82, 169, 30, 178, 250, 213, 242, 41, 216, 55  …  52, 289, 92, 60, 217, 21, 44, 167, 136, 3], [121, 66, 248, 261, 153, 207, 173, 40, 13, 268  …  2, 133, 74, 71, 72, 88, 93, 112, 239, 4], [269, 218, 192, 128, 126, 110, 252, 99, 182, 234  …  62, 165, 174, 163, 42, 175, 32, 158, 117, 127], [93, 192, 262, 158, 237, 36, 131, 126, 39, 40  …  146, 191, 94, 159, 72, 205, 256, 2, 74, 100], [200, 16, 279, 28, 69, 10, 219, 98, 161, 257  …  115, 142, 90, 253, 35, 81, 288, 15, 80, 111], [245, 33, 294, 162, 153, 191, 192, 246, 66, 57  …  14, 234, 132, 239, 198, 207, 284, 261, 63, 70], [81, 103, 276, 96, 264, 195, 5, 92, 202, 215  …  158, 128, 242, 66, 48, 201, 245, 160, 204, 223], [53, 260, 238, 255, 136, 3, 216, 61, 259, 242  …  178, 21, 41, 217, 241, 176, 48, 201, 82, 221]  …  [70, 205, 64, 271, 100, 131, 128, 191, 106, 246  …  117, 114, 46, 25, 7, 225, 218, 139, 6, 175], [260, 92, 290, 244, 215, 15, 212, 119, 142, 123  …  273, 176, 291, 178, 111, 216, 90, 55, 154, 224], [163, 147, 156, 112, 232, 118, 18, 63, 127, 293  …  160, 228, 139, 59, 298, 29, 108, 133, 72, 272], [272, 247, 189, 155, 186, 126, 266, 108, 185, 160  …  177, 198, 163, 153, 57, 237, 112, 295, 168, 203], [50, 198, 210, 261, 157, 91, 20, 281, 248, 59  …  294, 29, 6, 272, 78, 181, 40, 25, 75, 193], [229, 118, 165, 247, 126, 158, 182, 284, 106, 1  …  172, 203, 127, 194, 135, 192, 7, 146, 252, 110], [261, 153, 162, 62, 292, 110, 46, 36, 147, 263  …  88, 108, 239, 94, 106, 229, 100, 196, 70, 4], [162, 67, 283, 225, 78, 37, 232, 147, 222, 22  …  46, 256, 266, 114, 185, 157, 183, 70, 141, 187], [173, 177, 19, 210, 165, 268, 196, 155, 247, 39  …  166, 185, 131, 266, 32, 195, 93, 194, 121, 258], [281, 156, 4, 72, 88, 248, 18, 153, 64, 133  …  31, 191, 274, 207, 261, 139, 293, 75, 66, 173]], [118, 1, 1, 1, 1, 2, 81, 3, 18, 3  …  7, 3, 6, 2, 6, 8, 24, 33, 8, 6])"
      ]
     },
     "execution_count": 3,
     "metadata": {},
     "output_type": "execute_result"
    }
   ],
   "source": [
    "using ShingakuMatching\n",
    "\n",
    "departments = get_departments()\n",
    "\n",
    "num_students = 300 #number of students\n",
    "students = get_students(num_students)\n",
    "\n",
    "prop_prefs, resp_prefs, caps = get_random_prefs(students, departments)"
   ]
  },
  {
   "cell_type": "code",
   "execution_count": 4,
   "metadata": {
    "scrolled": false
   },
   "outputs": [
    {
     "data": {
      "text/plain": [
       "([102, 95, 100, 113, 18, 127, 142, 24, 45, 84  …  121, 122, 113, 78, 56, 12, 1, 130, 58, 16], [297, 47, 179, 0, 0, 0, 0, 0, 0, 0  …  0, 0, 0, 0, 0, 0, 0, 0, 0, 0], [1, 119, 120, 121, 122, 123, 125, 206, 209, 227  …  881, 884, 890, 892, 898, 906, 930, 963, 971, 977])"
      ]
     },
     "execution_count": 4,
     "metadata": {},
     "output_type": "execute_result"
    }
   ],
   "source": [
    "prop_matched, resp_matched, indptr = my_deferred_acceptance(prop_prefs, resp_prefs, caps)"
   ]
  },
  {
   "cell_type": "markdown",
   "metadata": {},
   "source": [
    "以下では、どの生徒ともマッチングしなかった学科を探します。"
   ]
  },
  {
   "cell_type": "code",
   "execution_count": 9,
   "metadata": {
    "scrolled": false
   },
   "outputs": [
    {
     "name": "stdout",
     "output_type": "stream",
     "text": [
      "resp 4 got no student.\n",
      "resp 5 got no student.\n",
      "resp 22 got no student.\n",
      "resp 32 got no student.\n"
     ]
    }
   ],
   "source": [
    "r = 1\n",
    "while r <= length(resp_prefs)\n",
    "    if (resp_matched[indptr[r]:indptr[r+1]-1] == [0])\n",
    "        println(\"resp $r \"\"got no student.\")\n",
    "    end\n",
    "    r += 1\n",
    "end"
   ]
  },
  {
   "cell_type": "markdown",
   "metadata": {},
   "source": [
    "実際に上記の学科のresp_matchedが0になっているかどうかを確認してみます。"
   ]
  },
  {
   "cell_type": "code",
   "execution_count": 10,
   "metadata": {},
   "outputs": [
    {
     "data": {
      "text/plain": [
       "1-element Array{Int64,1}:\n",
       " 0"
      ]
     },
     "execution_count": 10,
     "metadata": {},
     "output_type": "execute_result"
    }
   ],
   "source": [
    "j = 4\n",
    "resp_matched[indptr[j]:indptr[j+1]-1]"
   ]
  },
  {
   "cell_type": "code",
   "execution_count": 11,
   "metadata": {
    "scrolled": true
   },
   "outputs": [
    {
     "data": {
      "text/plain": [
       "1-element Array{Int64,1}:\n",
       " 0"
      ]
     },
     "execution_count": 11,
     "metadata": {},
     "output_type": "execute_result"
    }
   ],
   "source": [
    "j = 5\n",
    "resp_matched[indptr[j]:indptr[j+1]-1]"
   ]
  },
  {
   "cell_type": "code",
   "execution_count": 12,
   "metadata": {},
   "outputs": [
    {
     "data": {
      "text/plain": [
       "1-element Array{Int64,1}:\n",
       " 0"
      ]
     },
     "execution_count": 12,
     "metadata": {},
     "output_type": "execute_result"
    }
   ],
   "source": [
    "j = 22\n",
    "resp_matched[indptr[j]:indptr[j+1]-1]"
   ]
  },
  {
   "cell_type": "code",
   "execution_count": 13,
   "metadata": {
    "scrolled": true
   },
   "outputs": [
    {
     "data": {
      "text/plain": [
       "1-element Array{Int64,1}:\n",
       " 0"
      ]
     },
     "execution_count": 13,
     "metadata": {},
     "output_type": "execute_result"
    }
   ],
   "source": [
    "j = 32\n",
    "resp_matched[indptr[j]:indptr[j+1]-1]"
   ]
  },
  {
   "cell_type": "markdown",
   "metadata": {},
   "source": [
    "次に、各学科が受け入れた学生の数を調べます。"
   ]
  },
  {
   "cell_type": "code",
   "execution_count": 39,
   "metadata": {
    "scrolled": true
   },
   "outputs": [
    {
     "data": {
      "text/plain": [
       "151-element Array{Int64,1}:\n",
       " 3\n",
       " 1\n",
       " 1\n",
       " 0\n",
       " 0\n",
       " 2\n",
       " 3\n",
       " 3\n",
       " 6\n",
       " 0\n",
       " 3\n",
       " 1\n",
       " 2\n",
       " ⋮\n",
       " 2\n",
       " 1\n",
       " 5\n",
       " 3\n",
       " 3\n",
       " 0\n",
       " 2\n",
       " 0\n",
       " 6\n",
       " 1\n",
       " 4\n",
       " 0"
      ]
     },
     "execution_count": 39,
     "metadata": {},
     "output_type": "execute_result"
    }
   ],
   "source": [
    "resp_num = Vector{Int}(length(resp_prefs))\n",
    "for u in 1:length(resp_prefs)\n",
    "    u_matched = resp_matched[indptr[u]:indptr[u+1]-1]\n",
    "    stu_num = 1\n",
    "    while !(u_matched[stu_num] == 0)\n",
    "        stu_num += 1\n",
    "        if stu_num > length(u_matched)\n",
    "            break\n",
    "        end\n",
    "    end\n",
    "    resp_num[u] = stu_num -1\n",
    "end\n",
    "\n",
    "resp_num"
   ]
  },
  {
   "cell_type": "markdown",
   "metadata": {},
   "source": [
    "最も多くの学生を受け入れた学科を探します。"
   ]
  },
  {
   "cell_type": "code",
   "execution_count": 48,
   "metadata": {},
   "outputs": [
    {
     "data": {
      "text/plain": [
       "12"
      ]
     },
     "execution_count": 48,
     "metadata": {},
     "output_type": "execute_result"
    }
   ],
   "source": [
    "maximum(resp_num)"
   ]
  },
  {
   "cell_type": "code",
   "execution_count": 49,
   "metadata": {},
   "outputs": [
    {
     "name": "stdout",
     "output_type": "stream",
     "text": [
      "122"
     ]
    }
   ],
   "source": [
    "for max_resp in 1:length(resp_prefs)\n",
    "    if !(resp_num[max_resp] == maximum(resp_num))\n",
    "        max_resp += 1\n",
    "    else\n",
    "        print(max_resp)\n",
    "        break\n",
    "    end\n",
    "end  "
   ]
  },
  {
   "cell_type": "markdown",
   "metadata": {},
   "source": [
    "最も多くの学生を受け入れた学科122と学生とのマッチングに着目します。"
   ]
  },
  {
   "cell_type": "markdown",
   "metadata": {},
   "source": [
    "学科122に内定した学生が、学科１を何番目に志望していたかを、以下の関数を使ってみてみます。"
   ]
  },
  {
   "cell_type": "code",
   "execution_count": 50,
   "metadata": {},
   "outputs": [
    {
     "data": {
      "text/plain": [
       "student_pref_rank (generic function with 1 method)"
      ]
     },
     "execution_count": 50,
     "metadata": {},
     "output_type": "execute_result"
    }
   ],
   "source": [
    "function student_pref_rank(resp_number)\n",
    "    x = 1\n",
    "    while x <= num_students\n",
    "        if x in resp_matched[indptr[resp_number]:indptr[resp_number+1]-1]\n",
    "            pref_rank = 1\n",
    "            x_pref = prop_prefs[x]\n",
    "            while !(x_pref[pref_rank] == resp_number)\n",
    "                pref_rank += 1\n",
    "            end\n",
    "            println(\"student $x; \"\"pref_rank = $pref_rank\")\n",
    "        end\n",
    "        x += 1\n",
    "    end\n",
    "end"
   ]
  },
  {
   "cell_type": "code",
   "execution_count": 51,
   "metadata": {},
   "outputs": [
    {
     "name": "stdout",
     "output_type": "stream",
     "text": [
      "student 26; pref_rank = 3\n",
      "student 27; pref_rank = 4\n",
      "student 49; pref_rank = 2\n",
      "student 107; pref_rank = 2\n",
      "student 144; pref_rank = 2\n",
      "student 170; pref_rank = 3\n",
      "student 171; pref_rank = 2\n",
      "student 178; pref_rank = 7\n",
      "student 194; pref_rank = 1\n",
      "student 248; pref_rank = 1\n",
      "student 273; pref_rank = 1\n",
      "student 292; pref_rank = 2\n"
     ]
    }
   ],
   "source": [
    "student_pref_rank(122)"
   ]
  },
  {
   "cell_type": "markdown",
   "metadata": {},
   "source": [
    "今度は学科122に内定した学生が、学科122の受け入れ順位の何番目に位置していたかを、以下の関数を使ってみてみます。"
   ]
  },
  {
   "cell_type": "code",
   "execution_count": 56,
   "metadata": {},
   "outputs": [
    {
     "data": {
      "text/plain": [
       "student_resp_rank (generic function with 1 method)"
      ]
     },
     "execution_count": 56,
     "metadata": {},
     "output_type": "execute_result"
    }
   ],
   "source": [
    "function student_resp_rank(resp_number)\n",
    "    w = resp_matched[indptr[resp_number]:indptr[resp_number+1]-1]\n",
    "    for y in 1: caps[resp_number]\n",
    "        if !(w[y] == 0) \n",
    "            resp_rank = 1\n",
    "            pref = resp_prefs[resp_number]\n",
    "            while !(pref[resp_rank] == w[y])\n",
    "                resp_rank += 1\n",
    "            end\n",
    "            stu = w[y]\n",
    "            println(\"student $stu; \"\"resp_rank = $resp_rank\")\n",
    "        else\n",
    "            break\n",
    "        end\n",
    "    end\n",
    "end"
   ]
  },
  {
   "cell_type": "code",
   "execution_count": 57,
   "metadata": {
    "scrolled": true
   },
   "outputs": [
    {
     "name": "stdout",
     "output_type": "stream",
     "text": [
      "student 194; resp_rank = 206\n",
      "student 248; resp_rank = 95\n",
      "student 273; resp_rank = 199\n",
      "student 49; resp_rank = 210\n",
      "student 107; resp_rank = 228\n",
      "student 144; resp_rank = 285\n",
      "student 292; resp_rank = 143\n",
      "student 171; resp_rank = 286\n",
      "student 178; resp_rank = 263\n",
      "student 26; resp_rank = 34\n",
      "student 27; resp_rank = 207\n",
      "student 170; resp_rank = 104\n"
     ]
    }
   ],
   "source": [
    "student_resp_rank(122)"
   ]
  },
  {
   "cell_type": "markdown",
   "metadata": {},
   "source": [
    "ここから、学科122に内定した学生にとって、学科122は選好順位が比較的高く魅力的であった一方で、学科122に内定した学生は、学科122から見てさほど魅力的ではなかったと言えそうです。"
   ]
  },
  {
   "cell_type": "markdown",
   "metadata": {},
   "source": [
    "以上で検証を終わります。"
   ]
  }
 ],
 "metadata": {
  "kernelspec": {
   "display_name": "Julia 0.6.0",
   "language": "julia",
   "name": "julia-0.6"
  },
  "language_info": {
   "file_extension": ".jl",
   "mimetype": "application/julia",
   "name": "julia",
   "version": "0.6.0"
  }
 },
 "nbformat": 4,
 "nbformat_minor": 2
}
