{
 "cells": [
  {
   "cell_type": "markdown",
   "metadata": {},
   "source": [
    "小住真央のデモノートです。"
   ]
  },
  {
   "cell_type": "markdown",
   "metadata": {},
   "source": [
    "以下がコードです。"
   ]
  },
  {
   "cell_type": "code",
   "execution_count": 67,
   "metadata": {
    "collapsed": false
   },
   "outputs": [
    {
     "data": {
      "text/plain": [
       "my_deferred_acceptance2 (generic function with 1 method)"
      ]
     },
     "execution_count": 67,
     "metadata": {},
     "output_type": "execute_result"
    }
   ],
   "source": [
    "function my_deferred_acceptance(m_prefs,f_prefs)\n",
    "    #初期設定\n",
    "    m = length(m_prefs)\n",
    "    n = length(f_prefs)\n",
    "    m_matched = Vector{Int}(m)\n",
    "    f_matched = Vector{Int}(n)\n",
    "    m_matched[1:end] = 0 \n",
    "    f_matched[1:end] = 0\n",
    "\n",
    "    count = 1\n",
    "    while count <= n\n",
    "        h = 1\n",
    "        while h <= m\n",
    "            l = 1\n",
    "            while l <= length(m_prefs[h])\n",
    "                if m_matched[h] == 0\n",
    "                    h_pref = m_prefs[h] #hの選好\n",
    "                    d = h_pref[l] #hのプロポーズ相手d\n",
    "                    d_pref = f_prefs[d] #dの選好\n",
    "                    if (f_matched[d] == 0) && (h in d_pref)#dが未婚かつdの選好にhが含まれる\n",
    "                        f_matched[d] = h\n",
    "                        m_matched[h] = d\n",
    "                    end\n",
    "                    if !(f_matched[d] == 0) && (h in d_pref)\n",
    "                        p = f_matched[d] #dの結婚相手p\n",
    "                        i = 1\n",
    "                        j = 1\n",
    "                        while !(d_pref[i] == p)\n",
    "                            i += 1\n",
    "                        end\n",
    "                        while !(d_pref[j] == h)\n",
    "                            j += 1\n",
    "                        end\n",
    "                        if i > j\n",
    "                            m_matched[h] = d\n",
    "                            f_matched[d] = h\n",
    "                            m_matched[p] = 0\n",
    "                        end\n",
    "                    end\n",
    "                end\n",
    "                l += 1\n",
    "            end\n",
    "            h +=1\n",
    "        end  \n",
    "        count +=1\n",
    "    end\n",
    "    return m_matched,f_matched\n",
    "end"
   ]
  },
  {
   "cell_type": "markdown",
   "metadata": {},
   "source": [
    "検証を行います。"
   ]
  },
  {
   "cell_type": "code",
   "execution_count": 65,
   "metadata": {
    "collapsed": false,
    "scrolled": true
   },
   "outputs": [
    {
     "data": {
      "text/plain": [
       "3-element Array{Array{Int64,1},1}:\n",
       " [2,3]    \n",
       " [2,3,4,1]\n",
       " [4,1,2]  "
      ]
     },
     "execution_count": 65,
     "metadata": {},
     "output_type": "execute_result"
    }
   ],
   "source": [
    "m_prefs = [[3], [3, 2, 1], [1, 3, 2], [3, 1]]\n",
    "f_prefs = [[2, 3], [2, 3, 4, 1], [4, 1, 2]]"
   ]
  },
  {
   "cell_type": "code",
   "execution_count": 68,
   "metadata": {
    "collapsed": false,
    "scrolled": true
   },
   "outputs": [
    {
     "data": {
      "text/plain": [
       "3-element Array{Array{Int64,1},1}:\n",
       " [3,1,2,4]\n",
       " [1,2,3,4]\n",
       " [3]      "
      ]
     },
     "execution_count": 68,
     "metadata": {},
     "output_type": "execute_result"
    }
   ],
   "source": [
    "m_prefs = [[1,2,3],[3,1,2],[2,3,1],[3,1,2]]\n",
    "f_prefs = [[3,1,2,4],[1,2,3,4],[3]]"
   ]
  },
  {
   "cell_type": "code",
   "execution_count": 69,
   "metadata": {
    "collapsed": false,
    "scrolled": true
   },
   "outputs": [
    {
     "data": {
      "text/plain": [
       "([1,2,3,0],[1,2,3])"
      ]
     },
     "execution_count": 69,
     "metadata": {},
     "output_type": "execute_result"
    }
   ],
   "source": [
    "my_deferred_acceptance(m_prefs,f_prefs)"
   ]
  },
  {
   "cell_type": "markdown",
   "metadata": {},
   "source": [
    "Testを実行します。"
   ]
  },
  {
   "cell_type": "code",
   "execution_count": 71,
   "metadata": {
    "collapsed": false
   },
   "outputs": [
    {
     "name": "stderr",
     "output_type": "stream",
     "text": [
      "\u001b[1m\u001b[34mINFO: Testing MyMatching\n",
      "\u001b[0m\u001b[1m\u001b[34mINFO: MyMatching tests passed\n",
      "\u001b[0m"
     ]
    }
   ],
   "source": [
    "Pkg.test(\"MyMatching\")"
   ]
  },
  {
   "cell_type": "code",
   "execution_count": null,
   "metadata": {
    "collapsed": true
   },
   "outputs": [],
   "source": []
  }
 ],
 "metadata": {
  "kernelspec": {
   "display_name": "Julia 0.5.1",
   "language": "julia",
   "name": "julia-0.5"
  },
  "language_info": {
   "file_extension": ".jl",
   "mimetype": "application/julia",
   "name": "julia",
   "version": "0.5.1"
  }
 },
 "nbformat": 4,
 "nbformat_minor": 2
}
